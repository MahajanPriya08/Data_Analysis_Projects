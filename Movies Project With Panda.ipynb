{
 "cells": [
  {
   "cell_type": "code",
   "execution_count": null,
   "id": "73046208",
   "metadata": {
    "scrolled": true
   },
   "outputs": [],
   "source": [
    "\n",
    "import pandas as pd\n",
    "import seaborn as se\n",
    "import numpy as np\n",
    "import matplotlib.pyplot as plt\n",
    "import re\n",
    "df = pd.read_csv(r'C:\\Users\\manat\\OneDrive\\Desktop\\my folder\\computer science study material\\Data Analysis Work\\Dataset\\moviesindustry_python\\movies.csv')\n",
    "print(df.head(5))"
   ]
  },
  {
   "cell_type": "code",
   "execution_count": null,
   "id": "61931f92",
   "metadata": {},
   "outputs": [],
   "source": [
    "print(df.gross,df.budget)"
   ]
  },
  {
   "cell_type": "code",
   "execution_count": null,
   "id": "2851b1f3",
   "metadata": {},
   "outputs": [],
   "source": [
    "print(df.head(50))"
   ]
  },
  {
   "cell_type": "code",
   "execution_count": null,
   "id": "67820e31",
   "metadata": {},
   "outputs": [],
   "source": [
    "print(df.isna().sum())\n",
    "     "
   ]
  },
  {
   "cell_type": "code",
   "execution_count": null,
   "id": "17a07419",
   "metadata": {},
   "outputs": [],
   "source": [
    "# find the missiing data in column\n",
    "\n",
    "print(len(df)-df.count())"
   ]
  },
  {
   "cell_type": "code",
   "execution_count": null,
   "id": "79e1c00c",
   "metadata": {},
   "outputs": [],
   "source": [
    "# find the missing data in rows\n",
    "df.isnull().sum(axis=1)"
   ]
  },
  {
   "cell_type": "code",
   "execution_count": null,
   "id": "3257c3a1",
   "metadata": {},
   "outputs": [],
   "source": [
    "#find the missing value in particular column\n",
    "print(df.writer.isnull().sum)"
   ]
  },
  {
   "cell_type": "code",
   "execution_count": null,
   "id": "5e8ee02b",
   "metadata": {},
   "outputs": [],
   "source": [
    "# find the missing values in particular column by grouping\n",
    "country_group=df.groupby('country').apply(lambda x: x.isnull().sum())\n",
    "print(country_group)"
   ]
  },
  {
   "cell_type": "code",
   "execution_count": null,
   "id": "66c0bad7",
   "metadata": {},
   "outputs": [],
   "source": [
    "country_group=df.groupby(['country'])['budget'].sum()\n",
    "print(country_group)"
   ]
  },
  {
   "cell_type": "code",
   "execution_count": null,
   "id": "21834d22",
   "metadata": {},
   "outputs": [],
   "source": [
    "# data types of columns\n",
    "df.dtypes"
   ]
  },
  {
   "cell_type": "code",
   "execution_count": null,
   "id": "adb9c307",
   "metadata": {},
   "outputs": [],
   "source": [
    " df['budget']= df['budget'].astype(int64)\n",
    "   "
   ]
  },
  {
   "cell_type": "code",
   "execution_count": null,
   "id": "7fd318f2",
   "metadata": {},
   "outputs": [],
   "source": [
    "df['budget'].dtypes"
   ]
  },
  {
   "cell_type": "code",
   "execution_count": null,
   "id": "61417ba0",
   "metadata": {},
   "outputs": [],
   "source": [
    "pd.options.display.float_format='{:.2f}'.format\n",
    "print(df)"
   ]
  },
  {
   "cell_type": "code",
   "execution_count": null,
   "id": "089ee572",
   "metadata": {},
   "outputs": [],
   "source": [
    "df.dtypes"
   ]
  },
  {
   "cell_type": "code",
   "execution_count": null,
   "id": "3f1a702f",
   "metadata": {},
   "outputs": [],
   "source": [
    "\n",
    " df.dropna(subset=['bugdet'])"
   ]
  },
  {
   "cell_type": "code",
   "execution_count": null,
   "id": "2208deda",
   "metadata": {},
   "outputs": [],
   "source": [
    " df['budget']= df['budget'].astype(\"int64\")\n",
    "display(df)"
   ]
  },
  {
   "cell_type": "code",
   "execution_count": null,
   "id": "365ae893",
   "metadata": {},
   "outputs": [],
   "source": [
    "df.dropna()"
   ]
  },
  {
   "cell_type": "code",
   "execution_count": null,
   "id": "e32f23e3",
   "metadata": {},
   "outputs": [],
   "source": [
    "df['budget']= df['budget'].astype('int64')\n",
    "print(df)"
   ]
  },
  {
   "cell_type": "code",
   "execution_count": null,
   "id": "60284ae1",
   "metadata": {},
   "outputs": [],
   "source": [
    "print(df['budget'].isnull().sum())"
   ]
  },
  {
   "cell_type": "code",
   "execution_count": null,
   "id": "ce7d9033",
   "metadata": {},
   "outputs": [],
   "source": [
    "df['budget']= df['budget'].fillna(0.0)\n",
    "df.dropna(subset=['gross'])\n",
    "df['gross']= df['gross'].fillna(0.0)\n",
    "print(df['budget'],df['gross'])"
   ]
  },
  {
   "cell_type": "code",
   "execution_count": null,
   "id": "6231d199",
   "metadata": {},
   "outputs": [],
   "source": []
  },
  {
   "cell_type": "code",
   "execution_count": null,
   "id": "36c83db9",
   "metadata": {},
   "outputs": [],
   "source": [
    "print(df['gross'].isnull().sum())"
   ]
  },
  {
   "cell_type": "code",
   "execution_count": null,
   "id": "e81b9195",
   "metadata": {},
   "outputs": [],
   "source": [
    "print(df['gross'])"
   ]
  },
  {
   "cell_type": "code",
   "execution_count": null,
   "id": "9898f153",
   "metadata": {},
   "outputs": [],
   "source": [
    "df['budget']=df['budget'].astype(int)\n",
    "df['gross']=df['gross'].astype(int)\n",
    "print(df.dtypes)"
   ]
  },
  {
   "cell_type": "code",
   "execution_count": null,
   "id": "c0e72abb",
   "metadata": {
    "scrolled": true
   },
   "outputs": [],
   "source": [
    "df.drop_duplicates()"
   ]
  },
  {
   "cell_type": "code",
   "execution_count": null,
   "id": "61afec42",
   "metadata": {},
   "outputs": [],
   "source": [
    "  df.sort_values(by=['gross'], ascending= False, inplace = False)\n",
    "print(df.gross)"
   ]
  },
  {
   "cell_type": "code",
   "execution_count": null,
   "id": "564f27b3",
   "metadata": {},
   "outputs": [],
   "source": [
    "df['released']=pd.to_datetime(df['released'])"
   ]
  },
  {
   "cell_type": "code",
   "execution_count": null,
   "id": "b6cdfceb",
   "metadata": {},
   "outputs": [],
   "source": [
    "df['year']=(df['released'].astype(str).str[:4])\n",
    "print(df)"
   ]
  },
  {
   "cell_type": "code",
   "execution_count": null,
   "id": "5b6366f2",
   "metadata": {},
   "outputs": [],
   "source": [
    "df['year']='none'\n",
    "print(df)"
   ]
  },
  {
   "cell_type": "code",
   "execution_count": null,
   "id": "ec470443",
   "metadata": {},
   "outputs": [],
   "source": [
    "released_index =df.columns.get_loc('released')\n",
    "year_index=df.columns.get_loc('year')\n",
    "date_pattern=r'([0-9]{2}\\-[0-9]{2}\\-[0-9]{4})'\n",
    "for i in range(0,len(df)):\n",
    "    year = re.search(date_pattern,df.iat[i,released_index])\n",
    "    year = df.iat[i,year_index]\n",
    "    print(df)\n",
    "  "
   ]
  },
  {
   "cell_type": "code",
   "execution_count": null,
   "id": "ce021a91",
   "metadata": {},
   "outputs": [],
   "source": [
    "print(df)"
   ]
  },
  {
   "cell_type": "code",
   "execution_count": null,
   "id": "b5b62643",
   "metadata": {},
   "outputs": [],
   "source": [
    "df.boxplot(column=['gross'])"
   ]
  },
  {
   "cell_type": "code",
   "execution_count": null,
   "id": "f467eb4f",
   "metadata": {},
   "outputs": [],
   "source": [
    "\n",
    "se.regplot(x='score', y='budget',data= df)"
   ]
  },
  {
   "cell_type": "code",
   "execution_count": null,
   "id": "dc01ccb2",
   "metadata": {},
   "outputs": [],
   "source": [
    "# line showing positive relationship between score and budget\n",
    "se.regplot(x='budget',y='gross', data=df)"
   ]
  },
  {
   "cell_type": "code",
   "execution_count": null,
   "id": "4c9a7043",
   "metadata": {},
   "outputs": [],
   "source": [
    "# scatter plot with gross and budget\n",
    "plt.scatter(x=df['budget'],y=df['gross'])\n",
    "plt.title('Budget/Gross Earning')\n",
    "plt.xlabel('Budget')\n",
    "plt.ylabel('Gross')\n",
    "Plt.show()"
   ]
  },
  {
   "cell_type": "code",
   "execution_count": null,
   "id": "e07123a4",
   "metadata": {},
   "outputs": [],
   "source": [
    "df.corr()"
   ]
  },
  {
   "cell_type": "code",
   "execution_count": null,
   "id": "0c2ce00b",
   "metadata": {},
   "outputs": [],
   "source": [
    "df.corr(method='kendall')"
   ]
  },
  {
   "cell_type": "code",
   "execution_count": null,
   "id": "6cf8857a",
   "metadata": {},
   "outputs": [],
   "source": [
    "correction_matrix=df.corr(method='pearson')\n",
    "se.heatmap(correction_matrix,annot=True)\n",
    "plt.title('Collection matrix for Numeric Feature ')\n",
    "plt.xlabel('Data Scale')\n",
    "plt.ylabel('Data Scale')\n",
    "plt.show()"
   ]
  },
  {
   "cell_type": "code",
   "execution_count": null,
   "id": "b67fd38c",
   "metadata": {},
   "outputs": [],
   "source": [
    "\n"
   ]
  },
  {
   "cell_type": "code",
   "execution_count": null,
   "id": "78316e2a",
   "metadata": {},
   "outputs": [],
   "source": []
  }
 ],
 "metadata": {
  "kernelspec": {
   "display_name": "Python 3 (ipykernel)",
   "language": "python",
   "name": "python3"
  },
  "language_info": {
   "codemirror_mode": {
    "name": "ipython",
    "version": 3
   },
   "file_extension": ".py",
   "mimetype": "text/x-python",
   "name": "python",
   "nbconvert_exporter": "python",
   "pygments_lexer": "ipython3",
   "version": "3.9.7"
  }
 },
 "nbformat": 4,
 "nbformat_minor": 5
}
